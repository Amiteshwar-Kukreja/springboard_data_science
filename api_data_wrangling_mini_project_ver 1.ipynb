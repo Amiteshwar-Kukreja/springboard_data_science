{
 "cells": [
  {
   "cell_type": "markdown",
   "metadata": {},
   "source": [
    "This exercise will require you to pull some data from the Qunadl API. Qaundl is currently the most widely used aggregator of financial market data."
   ]
  },
  {
   "cell_type": "markdown",
   "metadata": {},
   "source": [
    "As a first step, you will need to register a free account on the http://www.quandl.com website."
   ]
  },
  {
   "cell_type": "markdown",
   "metadata": {},
   "source": [
    "After you register, you will be provided with a unique API key, that you should store:"
   ]
  },
  {
   "cell_type": "code",
   "execution_count": 18,
   "metadata": {
    "jupyter": {
     "outputs_hidden": true
    }
   },
   "outputs": [],
   "source": [
    "# Store the API key as a string - according to PEP8, constants are always named in all upper case\n",
    "API_KEY = 'My API Key'"
   ]
  },
  {
   "cell_type": "markdown",
   "metadata": {},
   "source": [
    "Qaundl has a large number of data sources, but, unfortunately, most of them require a Premium subscription. Still, there are also a good number of free datasets."
   ]
  },
  {
   "cell_type": "markdown",
   "metadata": {},
   "source": [
    "For this mini project, we will focus on equities data from the Frankfurt Stock Exhange (FSE), which is available for free. We'll try and analyze the stock prices of a company called Carl Zeiss Meditec, which manufactures tools for eye examinations, as well as medical lasers for laser eye surgery: https://www.zeiss.com/meditec/int/home.html. The company is listed under the stock ticker AFX_X."
   ]
  },
  {
   "cell_type": "markdown",
   "metadata": {},
   "source": [
    "You can find the detailed Quandl API instructions here: https://docs.quandl.com/docs/time-series"
   ]
  },
  {
   "cell_type": "markdown",
   "metadata": {},
   "source": [
    "While there is a dedicated Python package for connecting to the Quandl API, we would prefer that you use the *requests* package, which can be easily downloaded using *pip* or *conda*. You can find the documentation for the package here: http://docs.python-requests.org/en/master/ "
   ]
  },
  {
   "cell_type": "markdown",
   "metadata": {},
   "source": [
    "Finally, apart from the *requests* package, you are encouraged to not use any third party Python packages, such as *pandas*, and instead focus on what's available in the Python Standard Library (the *collections* module might come in handy: https://pymotw.com/3/collections/ ).\n",
    "Also, since you won't have access to DataFrames, you are encouraged to us Python's native data structures - preferably dictionaries, though some questions can also be answered using lists.\n",
    "You can read more on these data structures here: https://docs.python.org/3/tutorial/datastructures.html"
   ]
  },
  {
   "cell_type": "markdown",
   "metadata": {},
   "source": [
    "Keep in mind that the JSON responses you will be getting from the API map almost one-to-one to Python's dictionaries. Unfortunately, they can be very nested, so make sure you read up on indexing dictionaries in the documentation provided above."
   ]
  },
  {
   "cell_type": "code",
   "execution_count": 19,
   "metadata": {
    "jupyter": {
     "outputs_hidden": true
    }
   },
   "outputs": [],
   "source": [
    "import requests\n",
    "import json\n",
    "from collections import defaultdict\n"
   ]
  },
  {
   "cell_type": "markdown",
   "metadata": {},
   "source": [
    "Note: API's can change a bit with each version, for this exercise it is reccomended to use the \"V3\" quandl api at `https://www.quandl.com/api/v3/`"
   ]
  },
  {
   "cell_type": "code",
   "execution_count": 20,
   "metadata": {
    "jupyter": {
     "outputs_hidden": true
    }
   },
   "outputs": [],
   "source": [
    "# Now, call the Quandl API and pull out a small sample of the data (only one day) to get a glimpse\n",
    "# into the JSON structure that will be returned\n",
    "\n",
    "url = 'https://www.quandl.com/api/v3/datasets/FSE/AFX_X/data.json?rows=1&api_key=' + API_KEY\n",
    "data = requests.get(url)\n",
    "data_json = data.json()\n"
   ]
  },
  {
   "cell_type": "code",
   "execution_count": 21,
   "metadata": {
    "jupyter": {
     "outputs_hidden": true
    }
   },
   "outputs": [
    {
     "name": "stdout",
     "output_type": "stream",
     "text": [
      "<class 'dict'>\n",
      "{'dataset_data': {'limit': 1, 'transform': None, 'column_index': None, 'column_names': ['Date', 'Open', 'High', 'Low', 'Close', 'Change', 'Traded Volume', 'Turnover', 'Last Price of the Day', 'Daily Traded Units', 'Daily Turnover'], 'start_date': '2000-06-07', 'end_date': '2020-12-01', 'frequency': 'daily', 'data': [['2020-12-01', 112.2, 112.2, 111.5, 112.0, None, 51.0, 5703.0, None, None, None]], 'collapse': None, 'order': None}}\n",
      "[['2020-12-01', 112.2, 112.2, 111.5, 112.0, None, 51.0, 5703.0, None, None, None]]\n",
      "['Date', 'Open', 'High', 'Low', 'Close', 'Change', 'Traded Volume', 'Turnover', 'Last Price of the Day', 'Daily Traded Units', 'Daily Turnover']\n"
     ]
    }
   ],
   "source": [
    "# Inspect the JSON structure of the object you created, and take note of how nested it is,\n",
    "# as well as the overall structure\n",
    "print(type(data_json))\n",
    "print(data_json)\n",
    "print(data_json['dataset_data']['data'])\n",
    "print(data_json['dataset_data']['column_names'])"
   ]
  },
  {
   "cell_type": "markdown",
   "metadata": {},
   "source": [
    "These are your tasks for this mini project:\n",
    "\n",
    "1. Collect data from the Franfurt Stock Exchange, for the ticker AFX_X, for the whole year 2017 (keep in mind that the date format is YYYY-MM-DD).\n",
    "2. Convert the returned JSON object into a Python dictionary.\n",
    "3. Calculate what the highest and lowest opening prices were for the stock in this period.\n",
    "4. What was the largest change in any one day (based on High and Low price)?\n",
    "5. What was the largest change between any two days (based on Closing Price)?\n",
    "6. What was the average daily trading volume during this year?\n",
    "7. (Optional) What was the median trading volume during this year. (Note: you may need to implement your own function for calculating the median.)"
   ]
  },
  {
   "cell_type": "code",
   "execution_count": 22,
   "metadata": {
    "jupyter": {
     "outputs_hidden": true
    }
   },
   "outputs": [],
   "source": [
    "url = 'https://www.quandl.com/api/v3/datasets/FSE/AFX_X/data.json?start_date=2017-01-01&end_date=2017-12-31&api_key='+API_KEY\n",
    "data = requests.get(url)\n",
    "data_dict = data.json()\n"
   ]
  },
  {
   "cell_type": "code",
   "execution_count": 23,
   "metadata": {},
   "outputs": [
    {
     "name": "stdout",
     "output_type": "stream",
     "text": [
      "['2017-12-29', 51.76, 51.94, 51.45, 51.76, None, 34640.0, 1792304.0, None, None, None]\n"
     ]
    }
   ],
   "source": [
    "# Checking top record in the daily data \n",
    "print(data_dict['dataset_data']['data'][0])\n",
    "\n",
    "# Creating a dictionary with dates as keys and daily price & volume information as values in a list\n",
    "daily_values = defaultdict(list)\n",
    "for value in data_dict['dataset_data']['data']:\n",
    "    daily_values[value[0]] = value[1:]"
   ]
  },
  {
   "cell_type": "code",
   "execution_count": 24,
   "metadata": {},
   "outputs": [
    {
     "name": "stdout",
     "output_type": "stream",
     "text": [
      "Highest Opening Price : 53.11\n",
      "Lowest Opening Price : 34.00\n",
      "Largest change within any one day : 2.81\n",
      "Largest change between any two successive days : 2.56\n",
      "Average Traded Volume in 2017 : 3853589\n",
      "Median Traded Volume in 2017 : 3292223\n"
     ]
    }
   ],
   "source": [
    "# Initializing target variables\n",
    "highest_opening_price = 0.0\n",
    "lowest_opening_price = 1000000.0\n",
    "largest_intra_day_change = 0.0\n",
    "largest_inter_day_change = 0.0\n",
    "no_of_trading_days = 0.0\n",
    "traded_volume = []\n",
    "prev_close = daily_values['2017-12-29'][3]\n",
    "todays_change = 0.0\n",
    "\n",
    "# Passing None type to a variable 'Nonetype' for checking & avoiding values that are None type\n",
    "Nonetype = type(None)\n",
    "\n",
    "\n",
    "def median(list_of_values):\n",
    "    \"\"\"Return the median of a list of nos.\"\"\"\n",
    "    no_of_values = len(list_of_values)\n",
    "    sorted_list = sorted(list_of_values,key=float)\n",
    "    if no_of_values != 0 and no_of_values % 2 != 0:\n",
    "        return sorted_list[int((no_of_values-1)/2)]\n",
    "    else:\n",
    "        return (sorted_list[int((no_of_values)/2)]+sorted_list[int((no_of_values-2)/2)])/2\n",
    "\n",
    "\n",
    "# Parsing over dict to calculate target values\n",
    "for i,v in daily_values.items():\n",
    "    no_of_trading_days += 1\n",
    "    if type(v[0]) != Nonetype:\n",
    "        if v[0] > highest_opening_price:  # Calculates highest opening price \n",
    "            highest_opening_price = v[0]\n",
    "        if v[0] < lowest_opening_price: # Calculates lowest opening price\n",
    "            lowest_opening_price =v[0]\n",
    "    \n",
    "    if type(v[1]) != Nonetype and type(v[2]) != Nonetype: # Calculates largest change in any one day\n",
    "        change = v[1] - v[2]\n",
    "        if change > largest_intra_day_change:\n",
    "            largest_intra_day_change = change\n",
    "            \n",
    "    if type(v[6]) != Nonetype:       # Adds traded volumes into a list for calculating mean & median later\n",
    "        traded_volume.append(v[6])\n",
    "    \n",
    "    if type(v[3]) != Nonetype:       # Calculates largest change between any two days\n",
    "        todays_change = abs(v[3] - prev_close)\n",
    "        if todays_change > largest_inter_day_change:\n",
    "            largest_inter_day_change = todays_change\n",
    "        prev_close = v[3]\n",
    "\n",
    "average_traded_volume = sum(traded_volume)/len(traded_volume)\n",
    "median_traded_volume = median(traded_volume)\n",
    "\n",
    "print(f\"Highest Opening Price : {highest_opening_price:5.2f}\")\n",
    "print(f\"Lowest Opening Price : {lowest_opening_price:1.2f}\")\n",
    "print(f\"Largest change within any one day : {largest_intra_day_change:1.2f}\")\n",
    "print(f\"Largest change between any two successive days : {largest_inter_day_change:1.2f}\")\n",
    "print(f\"Average Traded Volume in 2017 : {average_traded_volume:1.0f}\")\n",
    "print(f\"Median Traded Volume in 2017 : {median_traded_volume:1.0f}\")"
   ]
  }
 ],
 "metadata": {
  "kernelspec": {
   "display_name": "Python 3",
   "language": "python",
   "name": "python3"
  },
  "language_info": {
   "codemirror_mode": {
    "name": "ipython",
    "version": 3
   },
   "file_extension": ".py",
   "mimetype": "text/x-python",
   "name": "python",
   "nbconvert_exporter": "python",
   "pygments_lexer": "ipython3",
   "version": "3.8.8"
  }
 },
 "nbformat": 4,
 "nbformat_minor": 4
}
